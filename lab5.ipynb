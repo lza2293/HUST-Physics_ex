{
 "metadata": {
  "language_info": {
   "codemirror_mode": {
    "name": "ipython",
    "version": 3
   },
   "file_extension": ".py",
   "mimetype": "text/x-python",
   "name": "python",
   "nbconvert_exporter": "python",
   "pygments_lexer": "ipython3",
   "version": "3.7.7-final"
  },
  "orig_nbformat": 2,
  "kernelspec": {
   "name": "python3",
   "display_name": "Python 3"
  }
 },
 "nbformat": 4,
 "nbformat_minor": 2,
 "cells": [
  {
   "cell_type": "markdown",
   "metadata": {},
   "source": [
    "# 漫反射测量玻璃折射率"
   ]
  },
  {
   "cell_type": "code",
   "execution_count": 1,
   "metadata": {},
   "outputs": [],
   "source": [
    "import numpy as np\n",
    "import pandas as pd"
   ]
  },
  {
   "cell_type": "code",
   "execution_count": 2,
   "metadata": {},
   "outputs": [],
   "source": [
    "def calc_sigma(l):\n",
    "    l_mean = np.mean(l)\n",
    "    return np.sqrt(np.sum([(item - l_mean) ** 2 for item in l]) / (len(l) - 1))\n",
    "\n",
    "def remove_data_out3sigma(l):\n",
    "    l_std = calc_sigma(l)\n",
    "    l_mean = np.mean(l)\n",
    "    l = l[l <= l_mean + 3 * l_std]\n",
    "    l = l[l >= l_mean - 3 * l_std]\n",
    "    return l\n",
    "\n",
    "tp      = {3:4.3, 4:3.18, 5:2.78, 6:2.57,\n",
    "            7:2.45, 8:2.37, 9:2.31, 10:1.96}"
   ]
  },
  {
   "cell_type": "code",
   "execution_count": 3,
   "metadata": {},
   "outputs": [],
   "source": [
    "d = np.array([0.25, 0.30, 0.25, 0.25, 0.30])\n",
    "D = np.array([1.85, 1.60, 1.65, 1.65, 1.80])\n",
    "Convert = 0.01\n",
    "\n",
    "d = d*Convert\n",
    "D = D*Convert"
   ]
  },
  {
   "cell_type": "code",
   "execution_count": 4,
   "metadata": {
    "tags": []
   },
   "outputs": [
    {
     "output_type": "stream",
     "name": "stdout",
     "text": "d_mean :0.0027, D_mean:0.0171\n"
    }
   ],
   "source": [
    "d = remove_data_out3sigma(d)\n",
    "D = remove_data_out3sigma(D)\n",
    "\n",
    "d_mean = np.mean(d)\n",
    "D_mean = np.mean(D)\n",
    "\n",
    "print('d_mean :{}, D_mean:{}'.format(d_mean, D_mean))"
   ]
  },
  {
   "cell_type": "code",
   "execution_count": 5,
   "metadata": {
    "tags": []
   },
   "outputs": [
    {
     "output_type": "stream",
     "name": "stdout",
     "text": "u_d = 0.00035486053598561784, u_D = 0.0013513600556476436\nn_2 =  1.182747634433907\n"
    }
   ],
   "source": [
    "ub = 0.0001\n",
    "ua_d    = tp[len(d)] * calc_sigma(d) / np.sqrt(len(d))\n",
    "ua_D    = tp[len(D)] * calc_sigma(D) / np.sqrt(len(D))\n",
    "\n",
    "u_d = np.sqrt(ub ** 2 + ua_d ** 2)\n",
    "u_D = np.sqrt(ub ** 2 + ua_D ** 2)\n",
    "n_2 = np.sqrt((4*d_mean/D_mean) ** 2 + 1)\n",
    "\n",
    "print('u_d = {}, u_D = {}'.format(u_d, u_D))\n",
    "print('n_2 = ', n_2)"
   ]
  },
  {
   "cell_type": "code",
   "execution_count": 6,
   "metadata": {
    "tags": []
   },
   "outputs": [
    {
     "output_type": "stream",
     "name": "stdout",
     "text": "ur =  0.055626519146454216\n"
    }
   ],
   "source": [
    "ur = np.sqrt((256 * d_mean * d_mean * (D_mean * D_mean *u_d * u_d + d_mean * d_mean * u_D * u_D)) / ((4 * d_mean * d_mean * D_mean + D_mean ** 3) ** 2))\n",
    "\n",
    "print('ur = ', ur)"
   ]
  },
  {
   "cell_type": "code",
   "execution_count": 7,
   "metadata": {
    "tags": []
   },
   "outputs": [
    {
     "output_type": "stream",
     "name": "stdout",
     "text": "n_2 falls in range [1.1169555005016458, 1.248539768366168]\n"
    }
   ],
   "source": [
    "print('n_2 falls in range [{}, {}]'.format((1-ur)*n_2, (1+ur)*n_2))"
   ]
  }
 ]
}