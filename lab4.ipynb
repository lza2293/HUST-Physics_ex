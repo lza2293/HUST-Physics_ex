{
 "metadata": {
  "language_info": {
   "codemirror_mode": {
    "name": "ipython",
    "version": 3
   },
   "file_extension": ".py",
   "mimetype": "text/x-python",
   "name": "python",
   "nbconvert_exporter": "python",
   "pygments_lexer": "ipython3",
   "version": "3.7.7-final"
  },
  "orig_nbformat": 2,
  "kernelspec": {
   "name": "python37764bitpy27conda9d068e8afd18425a859d8004fe770e59",
   "display_name": "Python 3.7.7 64-bit ('py27': conda)"
  }
 },
 "nbformat": 4,
 "nbformat_minor": 2,
 "cells": [
  {
   "cell_type": "code",
   "execution_count": 2,
   "metadata": {},
   "outputs": [],
   "source": [
    "import numpy as np\n",
    "import matplotlib.pyplot as plt\n",
    "import pandas as pd"
   ]
  },
  {
   "cell_type": "markdown",
   "metadata": {},
   "source": [
    "# 粗测焦距"
   ]
  },
  {
   "cell_type": "code",
   "execution_count": 4,
   "metadata": {
    "tags": []
   },
   "outputs": [
    {
     "output_type": "stream",
     "name": "stdout",
     "text": "粗测焦距f= 10.559999999999999\n"
    }
   ],
   "source": [
    "f_cuce  = np.array([10.65, 10.50, 10.45, 10.65, 10.55])\n",
    "f_mean  = np.mean(f_cuce)\n",
    "print('粗测焦距f=', f_mean)"
   ]
  },
  {
   "cell_type": "markdown",
   "metadata": {},
   "source": [
    "# 共轭法"
   ]
  },
  {
   "cell_type": "code",
   "execution_count": 6,
   "metadata": {},
   "outputs": [],
   "source": [
    "def calc_sigma(l):\n",
    "    l_mean = np.mean(l)\n",
    "    return np.sqrt(np.sum([(item - l_mean) ** 2 for item in l]) / (len(l) - 1))\n",
    "\n",
    "def remove_data_out3sigma(l):\n",
    "    l_std = calc_sigma(l)\n",
    "    l_mean = np.mean(l)\n",
    "    l = l[l <= l_mean + 3 * l_std]\n",
    "    l = l[l >= l_mean - 3 * l_std]\n",
    "    return l\n",
    "\n",
    "tp      = {3:4.3, 4:3.18, 5:2.78, 6:2.57,\n",
    "            7:2.45, 8:2.37, 9:2.31, 10:1.96}"
   ]
  },
  {
   "cell_type": "code",
   "execution_count": 8,
   "metadata": {
    "tags": []
   },
   "outputs": [
    {
     "output_type": "stream",
     "name": "stdout",
     "text": "u_l = 0.0037671758652869313, u_d = 0.019869960090548717\nur_f =  0.03558942688216015\nf =  [0.18849555 0.18054199 0.19203585 0.18163733 0.18178552]\nf = 0.18493811173753033\nf in range [0.17835627033212273, 0.19151995314293793]\n"
    }
   ],
   "source": [
    "l   = np.array([127.95, 128.00, 127.60, 127.25, 127.75])\n",
    "x1  = np.array([104.50, 106.35, 102.40, 105.65, 104.75])\n",
    "x2  = np.array([22.50, 21.85, 21.90, 22.30, 20.90])\n",
    "\n",
    "Convert = 0.01\n",
    "l   = l * Convert\n",
    "x1  = x1 * Convert\n",
    "x2  = x2 * Convert\n",
    "\n",
    "l   = remove_data_out3sigma(l)\n",
    "x1  = remove_data_out3sigma(x1)\n",
    "x2  = remove_data_out3sigma(x2)\n",
    "d   = x1 - x2\n",
    "\n",
    "l_mean  = np.mean(l)\n",
    "d_mean  = np.mean(d)\n",
    "\n",
    "ua_l    = tp[len(l)] * calc_sigma(l) / np.sqrt(len(l))\n",
    "ua_d    = tp[len(d)] * calc_sigma(d) / np.sqrt(len(d))\n",
    "\n",
    "ub = 0.0001\n",
    "\n",
    "u_l     = np.sqrt(ub ** 2 + ua_l ** 2)\n",
    "u_d     = np.sqrt(ub ** 2 + ua_d ** 2)\n",
    "\n",
    "ur_f    = np.sqrt(((2 * l_mean) / (l_mean**2-d_mean**2)-1.0 / l_mean) ** 2 * (u_l ** 2) + ((2 * d_mean) / (l_mean ** 2 - d_mean ** 2)) ** 2 * (u_d ** 2))\n",
    "\n",
    "f       = (l ** 2 - d ** 2) / (4 * l)\n",
    "f_mean  = (l_mean ** 2 - d_mean ** 2) / (4 * l_mean)\n",
    "\n",
    "print('u_l = {}, u_d = {}'.format(u_l, u_d))\n",
    "print('ur_f = ', ur_f)\n",
    "print('f = ', f)\n",
    "print('f =', f_mean)\n",
    "print('f in range [{}, {}]'.format(f_mean * (1 - ur_f), f_mean * (1 + ur_f)))"
   ]
  },
  {
   "cell_type": "markdown",
   "metadata": {},
   "source": [
    "# 自准法"
   ]
  },
  {
   "cell_type": "code",
   "execution_count": 10,
   "metadata": {
    "tags": []
   },
   "outputs": [
    {
     "output_type": "stream",
     "name": "stdout",
     "text": "ur_f0 =  0.1605054516208094\nf_0 =  [0.025 0.035 0.045 0.055 0.065]\nf_0_mean =  0.045\nf_0 in range [0.037777254677063575,0.052222745322936415]\n"
    }
   ],
   "source": [
    "f_1     = np.array([15.65, 16.20, 15.70, 15.50, 14.85])\n",
    "f_2     = np.array([14.95, 15.80, 15.25, 15.30, 15.50])\n",
    "Convert = 0.01\n",
    "\n",
    "f_1     = f_1 * Convert\n",
    "f_2     = f_2 * Convert\n",
    "\n",
    "f_1     = remove_data_out3sigma(f_1)\n",
    "f_2     = remove_data_out3sigma(f_2)\n",
    "\n",
    "f_1_mean = np.mean(f_1)\n",
    "f_2_mean = np.mean(f_2)\n",
    "\n",
    "ua_f_1  = tp[len(f_1)] * calc_sigma(f_1) / np.sqrt(len(f_1))\n",
    "ua_f_2  = tp[len(f_2)] * calc_sigma(f_2) / np.sqrt(len(f_2))\n",
    "\n",
    "ub = 0.0001\n",
    "\n",
    "u_f_1     = np.sqrt(ub ** 2 + ua_f_1 ** 2)\n",
    "u_f_2     = np.sqrt(ub ** 2 + ua_f_2 ** 2)\n",
    "\n",
    "f_0     = (f_1_mean + f_2_mean) / 2\n",
    "ur_f0   = np.sqrt((u_f_1 ** 2 + u_f_2 ** 2) / (f_1_mean))\n",
    "\n",
    "print('ur_f0 = ', ur_f0)\n",
    "print('f_0 = ', (f_1 + f_2) / 2)\n",
    "print('f_0_mean = ', f_0)\n",
    "print('f_0 in range [{},{}]'.format((1-ur_f0) * f_0, (1+ur_f0) * f_0))"
   ]
  }
 ]
}