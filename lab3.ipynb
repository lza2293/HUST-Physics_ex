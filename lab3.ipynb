{
 "metadata": {
  "language_info": {
   "codemirror_mode": {
    "name": "ipython",
    "version": 3
   },
   "file_extension": ".py",
   "mimetype": "text/x-python",
   "name": "python",
   "nbconvert_exporter": "python",
   "pygments_lexer": "ipython3",
   "version": "3.7.7-final"
  },
  "orig_nbformat": 2,
  "kernelspec": {
   "name": "python37764bitpy27conda9d068e8afd18425a859d8004fe770e59",
   "display_name": "Python 3.7.7 64-bit ('py27': conda)"
  }
 },
 "nbformat": 4,
 "nbformat_minor": 2,
 "cells": [
  {
   "cell_type": "code",
   "execution_count": 1,
   "metadata": {},
   "outputs": [],
   "source": [
    "import numpy as np\n",
    "import pandas as pd"
   ]
  },
  {
   "cell_type": "markdown",
   "metadata": {},
   "source": [
    "# Make data table"
   ]
  },
  {
   "cell_type": "code",
   "execution_count": 2,
   "metadata": {},
   "outputs": [],
   "source": [
    "def calc_sigma(l):\n",
    "    l_mean = np.mean(l)\n",
    "    return np.sqrt(np.sum([(item - l_mean) ** 2 for item in l]) / (len(l) - 1))\n",
    "\n",
    "def remove_data_out3sigma(l):\n",
    "    l_std = calc_sigma(l)\n",
    "    l_mean = np.mean(l)\n",
    "    l = l[l <= l_mean + 3 * l_std]\n",
    "    l = l[l >= l_mean - 3 * l_std]\n",
    "    return l\n",
    "\n",
    "tp      = {3:4.3, 4:3.18, 5:2.78, 6:2.57,\n",
    "            7:2.45, 8:2.37, 9:2.31, 10:1.96}"
   ]
  },
  {
   "cell_type": "code",
   "execution_count": 3,
   "metadata": {},
   "outputs": [],
   "source": [
    "L   = np.array([165.25, 165.60, 164.85, 165.40, 165.35])\n",
    "X1  = np.array([0.190, 0.178, 0.218, 0.183, 0.173])\n",
    "X2  = np.array([0.368, 0.386, 0.399, 0.419, 0.378])\n",
    "X3  = np.array([0.574, 0.583, 0.614, 0.584, 0.570])\n",
    "\n",
    "Convert = 10\n",
    "wave_length = 6.5e-7\n",
    "\n",
    "# Convert cm to m\n",
    "L   = L * Convert\n",
    "X1  = X1 * Convert\n",
    "X2  = X2 * Convert\n",
    "X3  = X3 * Convert "
   ]
  },
  {
   "cell_type": "code",
   "execution_count": 4,
   "metadata": {},
   "outputs": [],
   "source": [
    "L   = remove_data_out3sigma(L)\n",
    "X1  = remove_data_out3sigma(X1)\n",
    "X2  = remove_data_out3sigma(X2)\n",
    "X3  = remove_data_out3sigma(X3)\n",
    "\n",
    "L_mean  = np.mean(L)\n",
    "X1_mean = np.mean(X1)\n",
    "X2_mean = np.mean(X2)\n",
    "X3_mean = np.mean(X3)\n",
    "\n",
    "L_with_mean   = np.hstack((L, np.mean(L)))\n",
    "X1_with_mean  = np.hstack((X1, np.mean(X1)))\n",
    "X2_with_mean  = np.hstack((X2, np.mean(X2)))\n",
    "X3_with_mean  = np.hstack((X3, np.mean(X3)))"
   ]
  },
  {
   "cell_type": "code",
   "execution_count": 5,
   "metadata": {
    "tags": []
   },
   "outputs": [
    {
     "output_type": "execute_result",
     "data": {
      "text/plain": "       L(mm)  X1(mm)  X2(mm)  X3(mm)\n1     1652.5   1.900    3.68    5.74\n2     1656.0   1.780    3.86    5.83\n3     1648.5   2.180    3.99    6.14\n4     1654.0   1.830    4.19    5.84\n5     1653.5   1.730    3.78    5.70\nmean  1652.9   1.884    3.90    5.85",
      "text/html": "<div>\n<style scoped>\n    .dataframe tbody tr th:only-of-type {\n        vertical-align: middle;\n    }\n\n    .dataframe tbody tr th {\n        vertical-align: top;\n    }\n\n    .dataframe thead th {\n        text-align: right;\n    }\n</style>\n<table border=\"1\" class=\"dataframe\">\n  <thead>\n    <tr style=\"text-align: right;\">\n      <th></th>\n      <th>L(mm)</th>\n      <th>X1(mm)</th>\n      <th>X2(mm)</th>\n      <th>X3(mm)</th>\n    </tr>\n  </thead>\n  <tbody>\n    <tr>\n      <th>1</th>\n      <td>1652.5</td>\n      <td>1.900</td>\n      <td>3.68</td>\n      <td>5.74</td>\n    </tr>\n    <tr>\n      <th>2</th>\n      <td>1656.0</td>\n      <td>1.780</td>\n      <td>3.86</td>\n      <td>5.83</td>\n    </tr>\n    <tr>\n      <th>3</th>\n      <td>1648.5</td>\n      <td>2.180</td>\n      <td>3.99</td>\n      <td>6.14</td>\n    </tr>\n    <tr>\n      <th>4</th>\n      <td>1654.0</td>\n      <td>1.830</td>\n      <td>4.19</td>\n      <td>5.84</td>\n    </tr>\n    <tr>\n      <th>5</th>\n      <td>1653.5</td>\n      <td>1.730</td>\n      <td>3.78</td>\n      <td>5.70</td>\n    </tr>\n    <tr>\n      <th>mean</th>\n      <td>1652.9</td>\n      <td>1.884</td>\n      <td>3.90</td>\n      <td>5.85</td>\n    </tr>\n  </tbody>\n</table>\n</div>"
     },
     "metadata": {},
     "execution_count": 5
    }
   ],
   "source": [
    "index   = ['1', '2', '3', '4', '5', 'mean']\n",
    "\n",
    "d = {'L(mm)':L_with_mean, 'X1(mm)':X1_with_mean, 'X2(mm)':X2_with_mean, 'X3(mm)':X3_with_mean}\n",
    "\n",
    "data = pd.DataFrame(d, index=index)\n",
    "data"
   ]
  },
  {
   "cell_type": "markdown",
   "metadata": {},
   "source": [
    "# Calculate "
   ]
  },
  {
   "cell_type": "code",
   "execution_count": 6,
   "metadata": {},
   "outputs": [],
   "source": [
    "Convert = 0.001 # convert mm to m\n",
    "L = L * Convert\n",
    "X1 = X1 *Convert\n",
    "X2 = X2 *Convert\n",
    "X3 = X3 *Convert\n",
    "\n",
    "L_mean  = np.mean(L)\n",
    "X1_mean = np.mean(X1)\n",
    "X2_mean = np.mean(X2)\n",
    "X3_mean = np.mean(X3)"
   ]
  },
  {
   "cell_type": "code",
   "execution_count": 7,
   "metadata": {
    "tags": []
   },
   "outputs": [
    {
     "output_type": "stream",
     "name": "stdout",
     "text": "u_L = 0.0035865155792217255\nu_X1 = 0.0002200617058917794\nu_X2 = 0.0002459966910346557\nu_X3 = 0.0002146212105081882\n\nura1 = 0.11682572851928769\nura2 = 0.06311338496400172\nura3 = 0.036751496477366453\n"
    }
   ],
   "source": [
    "ua_L    = tp[len(L)] * calc_sigma(L) / np.sqrt(len(L))\n",
    "ua_X1   = tp[len(X1)] * calc_sigma(X1) / np.sqrt(len(X1))\n",
    "ua_X2   = tp[len(X2)] * calc_sigma(X2) / np.sqrt(len(X2))\n",
    "ua_X3   = tp[len(X3)] * calc_sigma(X3) / np.sqrt(len(X3))\n",
    "\n",
    "ub_L    = 0.001\n",
    "ub_X1   = 0.000001\n",
    "ub_X2   = 0.000001\n",
    "ub_X3   = 0.000001\n",
    "\n",
    "u_L     = np.sqrt(ua_L ** 2 + ub_L ** 2)\n",
    "u_X1    = np.sqrt(ua_X1 ** 2 + ub_X1 ** 2)\n",
    "u_X2    = np.sqrt(ua_X2 ** 2 + ub_X2 ** 2)\n",
    "u_X3    = np.sqrt(ua_X3 ** 2 + ub_X3 ** 2)\n",
    "\n",
    "ur_a1    = np.sqrt((u_L ** 2) / (L_mean ** 2) + (u_X1 ** 2) / (X1_mean ** 2))\n",
    "ur_a2    = np.sqrt((u_L ** 2) / (L_mean ** 2) + (u_X2 ** 2) / (X2_mean ** 2))\n",
    "ur_a3    = np.sqrt((u_L ** 2) / (L_mean ** 2) + (u_X3 ** 2) / (X3_mean ** 2))\n",
    "\n",
    "print('u_L = {}\\nu_X1 = {}\\nu_X2 = {}\\nu_X3 = {}\\n'.format(u_L, u_X1, u_X2, u_X3))\n",
    "print('ura1 = {}\\nura2 = {}\\nura3 = {}'.format(ur_a1, ur_a2, ur_a3))"
   ]
  },
  {
   "cell_type": "code",
   "execution_count": 8,
   "metadata": {
    "tags": []
   },
   "outputs": [
    {
     "output_type": "stream",
     "name": "stdout",
     "text": "a = [0.0005702680467091295, 0.0005509666666666668, 0.0005509666666666667]\naverage a=0.0005574004600141544m\na in range [0.0004922817451960147, 0.000622519174832294]\n"
    }
   ],
   "source": [
    "a1 = L_mean * wave_length / X1_mean\n",
    "a2 = L_mean * wave_length * 2 / X2_mean\n",
    "a3 = L_mean * wave_length * 3 / X3_mean\n",
    "\n",
    "a = [a1, a2, a3]\n",
    "a_mean = np.mean(a)\n",
    "\n",
    "print('a = {}\\naverage a={}m'.format(a, a_mean))\n",
    "print('a in range [{}, {}]'.format(a_mean * (1 - ur_a1), a_mean * (1 + ur_a1)))"
   ]
  },
  {
   "cell_type": "markdown",
   "metadata": {},
   "source": [
    "# 测量头发"
   ]
  },
  {
   "cell_type": "code",
   "execution_count": 12,
   "metadata": {
    "tags": []
   },
   "outputs": [
    {
     "output_type": "stream",
     "name": "stdout",
     "text": "头发直径为8.251953125e-05m\n"
    }
   ],
   "source": [
    "s = 0.0128\n",
    "L = 1.625\n",
    "\n",
    "D = wave_length / (s / L)\n",
    "print('头发直径为{}m'.format(D))"
   ]
  }
 ]
}